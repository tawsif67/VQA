{
  "nbformat": 4,
  "nbformat_minor": 0,
  "metadata": {
    "colab": {
      "provenance": [],
      "mount_file_id": "1BG-tM0YnY_WenY6JEuMSxUQgUD5e02vU",
      "authorship_tag": "ABX9TyPMBDa+HEiuaG3THvCy9EgH",
      "include_colab_link": true
    },
    "kernelspec": {
      "name": "python3",
      "display_name": "Python 3"
    },
    "language_info": {
      "name": "python"
    }
  },
  "cells": [
    {
      "cell_type": "markdown",
      "metadata": {
        "id": "view-in-github",
        "colab_type": "text"
      },
      "source": [
        "<a href=\"https://colab.research.google.com/github/tawsif67/VQA/blob/main/data_gen.ipynb\" target=\"_parent\"><img src=\"https://colab.research.google.com/assets/colab-badge.svg\" alt=\"Open In Colab\"/></a>"
      ]
    },
    {
      "cell_type": "code",
      "execution_count": null,
      "metadata": {
        "id": "cd_MAXrAHxet"
      },
      "outputs": [],
      "source": [
        "import csv\n",
        "import random\n",
        "\n",
        "with open('input.csv', 'r') as f:\n",
        "    csv_reader = csv.reader(f)\n",
        "    header = next(csv_reader)  # Skip the header row\n",
        "    rows = list(csv_reader)\n",
        "\n",
        "elements_dict = {}\n",
        "for row in rows:\n",
        "    image_name = row[0]\n",
        "    element = row[1]\n",
        "    if image_name not in elements_dict:\n",
        "        elements_dict[image_name] = []\n",
        "    elements_dict[image_name].append(element)\n",
        "\n",
        "question_templates = [\n",
        "    \"Which thing is farthest from {}?\",\n",
        "    \"Which thing is closest to {}?\",\n",
        "    \"Where is the {}?\",\n",
        "]\n",
        "\n",
        "used_questions = {}\n",
        "\n",
        "output_rows = []\n",
        "\n",
        "for image_name, elements in elements_dict.items():\n",
        "    available_elements = elements.copy()\n",
        "    used_questions[image_name] = []\n",
        "    for _ in range(5):\n",
        "        if available_elements:\n",
        "            element = random.choice(available_elements)\n",
        "            available_elements.remove(element)\n",
        "\n",
        "            question_template = random.choice(question_templates)\n",
        "\n",
        "            if \"Where\" in question_template:\n",
        "                # Filter available_elements to only include \"block\" or \"bowl\" elements\n",
        "                filtered_elements = [e for e in available_elements if \"block\" in e or \"bowl\" in e]\n",
        "                if filtered_elements:\n",
        "                    element = random.choice(filtered_elements)\n",
        "                    available_elements.remove(element)\n",
        "                else:\n",
        "                    continue  # Skip this question if no suitable elements are left\n",
        "\n",
        "            question = question_template.format(element)\n",
        "            used_questions[image_name].append(question)\n",
        "            output_rows.append([image_name, question])\n",
        "\n",
        "with open('questions_output.csv', 'w', newline='') as f:\n",
        "    csv_writer = csv.writer(f)\n",
        "    csv_writer.writerow(['image', 'question'])\n",
        "    csv_writer.writerows(output_rows)"
      ]
    },
    {
      "cell_type": "code",
      "source": [
        "import pandas as pd\n",
        "import re\n",
        "\n",
        "# Define a function to extract the last two words or last three words (if the last word is \"corner\")\n",
        "def extract_q_element(question):\n",
        "    words = re.findall(r'\\b\\w+\\b', question)\n",
        "    if len(words) >= 2:\n",
        "        if words[-1].lower() == \"corner\":\n",
        "            return ' '.join(words[-3:])\n",
        "        if words[-1].lower() == \"middle\":\n",
        "            return ' '.join(words[-1:])\n",
        "        else:\n",
        "            return ' '.join(words[-2:])\n",
        "    else:\n",
        "        return ''\n",
        "\n",
        "# Input CSV file and output CSV file names\n",
        "input_csv_filename = 'questions_output.csv'\n",
        "output_csv_filename = 'output.csv'\n",
        "\n",
        "# Read the input CSV into a DataFrame\n",
        "df = pd.read_csv(input_csv_filename)\n",
        "\n",
        "# Apply the function to create a new column 'q_element'\n",
        "df['q_element'] = df['question'].apply(extract_q_element)\n",
        "\n",
        "# Save the updated DataFrame to a new CSV file\n",
        "df.to_csv(output_csv_filename, index=False)\n",
        "\n",
        "print(f\"Updated CSV saved to {output_csv_filename}\")"
      ],
      "metadata": {
        "colab": {
          "base_uri": "https://localhost:8080/"
        },
        "id": "5kL-9MTBNyVQ",
        "outputId": "96453fea-8d01-44f8-cbca-92631b04099e"
      },
      "execution_count": null,
      "outputs": [
        {
          "output_type": "stream",
          "name": "stdout",
          "text": [
            "Updated CSV saved to output.csv\n"
          ]
        }
      ]
    },
    {
      "cell_type": "code",
      "source": [
        "import csv\n",
        "\n",
        "# Read the input CSV files\n",
        "with open('/content/input.csv', 'r') as f:\n",
        "    csv_reader = csv.reader(f)\n",
        "    input_header = next(csv_reader)\n",
        "    input_rows = list(csv_reader)\n",
        "\n",
        "with open('/content/output.csv', 'r') as f:\n",
        "    csv_reader = csv.reader(f)\n",
        "    questions_header = next(csv_reader)\n",
        "    questions_rows = list(csv_reader)\n",
        "\n",
        "questions_dict = {}\n",
        "for row in questions_rows:\n",
        "    image_name = row[0]\n",
        "    question = row[1]\n",
        "    q_element = row[2]  # Add a new variable to store q_element\n",
        "\n",
        "    if image_name not in questions_dict:\n",
        "        questions_dict[image_name] = []\n",
        "    questions_dict[image_name].append((question, q_element))  # Store q_element along with the question\n",
        "\n",
        "output_rows = []\n",
        "for row in input_rows:\n",
        "    image_name = row[0]\n",
        "    element = row[1]\n",
        "    coordinate = row[2]\n",
        "    if image_name in questions_dict:\n",
        "        questions = questions_dict[image_name]\n",
        "        if questions:\n",
        "            question, q_element = questions.pop(0)\n",
        "            output_rows.append([image_name, question, q_element, element, coordinate])  # Include q_element in the output\n",
        "        else:\n",
        "            output_rows.append([image_name, '', '', element, coordinate])  # Include an empty q_element if no question\n",
        "    else:\n",
        "        output_rows.append([image_name, '', '', element, coordinate])  # Include an empty q_element for unmatched input rows\n",
        "\n",
        "# Write the new CSV file\n",
        "with open('combined_output.csv', 'w', newline='') as f:\n",
        "    csv_writer = csv.writer(f)\n",
        "    csv_writer.writerow(['image', 'question', 'q_element', 'element', 'coordinate'])\n",
        "    csv_writer.writerows(output_rows)\n",
        "\n",
        "print(\"Combined CSV file with 'q_element' column has been created.\")"
      ],
      "metadata": {
        "colab": {
          "base_uri": "https://localhost:8080/"
        },
        "id": "c71_T8tkTXQe",
        "outputId": "c13b94d0-027f-4ea5-b9ab-a13cab61222d"
      },
      "execution_count": null,
      "outputs": [
        {
          "output_type": "stream",
          "name": "stdout",
          "text": [
            "Combined CSV file with 'q_element' column has been created.\n"
          ]
        }
      ]
    },
    {
      "cell_type": "code",
      "source": [
        "import csv\n",
        "\n",
        "# Read the combined output CSV file\n",
        "with open('combined_output.csv', 'r') as f:\n",
        "    csv_reader = csv.reader(f)\n",
        "    header = next(csv_reader)\n",
        "    rows = list(csv_reader)\n",
        "\n",
        "# Create a dictionary to store elements and their coordinates for each image name\n",
        "element_coordinate_dict = {}\n",
        "for row in rows:\n",
        "    image_name = row[0]\n",
        "    element = row[3]  # Get the element from the 'element' column\n",
        "    coordinate = row[4]  # Get the coordinate from the 'coordinate' column\n",
        "    if image_name not in element_coordinate_dict:\n",
        "        element_coordinate_dict[image_name] = {}\n",
        "    element_coordinate_dict[image_name][element] = coordinate\n",
        "\n",
        "# Update the rows with q_element coordinates\n",
        "for row in rows:\n",
        "    q_element = row[2]  # Get the q_element from the 'q_element' column\n",
        "    image_name = row[0]\n",
        "    if image_name in element_coordinate_dict and q_element in element_coordinate_dict[image_name]:\n",
        "        q_coordinate = element_coordinate_dict[image_name][q_element]\n",
        "    else:\n",
        "        q_coordinate = ''  # Set q_coordinate to an empty string if not found\n",
        "    row.append(q_coordinate)  # Append q_coordinate to the row\n",
        "\n",
        "# Update the header to include the new column\n",
        "header.append('q_coordinate')\n",
        "\n",
        "# Write the updated data to a new CSV file\n",
        "with open('updated_combined_output.csv', 'w', newline='') as f:\n",
        "    csv_writer = csv.writer(f)\n",
        "    csv_writer.writerow(header)  # Write the updated header\n",
        "    csv_writer.writerows(rows)  # Write the updated rows\n",
        "\n",
        "print(\"Updated CSV file with 'q_coordinate' column has been created.\")"
      ],
      "metadata": {
        "colab": {
          "base_uri": "https://localhost:8080/"
        },
        "id": "wQeQCspzT7wH",
        "outputId": "1f118a9b-05d5-4cd8-c8dc-f2489ab27bc4"
      },
      "execution_count": null,
      "outputs": [
        {
          "output_type": "stream",
          "name": "stdout",
          "text": [
            "Updated CSV file with 'q_coordinate' column has been created.\n"
          ]
        }
      ]
    },
    {
      "cell_type": "code",
      "source": [
        "import csv\n",
        "import re\n",
        "import math\n",
        "\n",
        "# Function to calculate Euclidean distance between two points (coordinates)\n",
        "def calculate_distance(coord1, coord2):\n",
        "    x1, y1 = coord1\n",
        "    x2, y2 = coord2\n",
        "    return math.sqrt((x1 - x2) ** 2 + (y1 - y2) ** 2)\n",
        "\n",
        "# Read the updated_combined_output CSV file\n",
        "with open('updated_combined_output.csv', 'r') as f:\n",
        "    csv_reader = csv.reader(f)\n",
        "    header = next(csv_reader)\n",
        "    rows = list(csv_reader)\n",
        "\n",
        "# Define a list of words that indicate \"closest\" or \"nearest\"\n",
        "closest_keywords = [\"closest\", \"nearest\"]\n",
        "farthest_keywords = [\"farthest\", \"furthest\"]\n",
        "\n",
        "# Define the result column header\n",
        "header.append('result')\n",
        "\n",
        "# Create a dictionary to group elements by image name\n",
        "image_elements = {}\n",
        "for row in rows:\n",
        "    image_name = row[0]\n",
        "    element = row[3]\n",
        "    if image_name not in image_elements:\n",
        "        image_elements[image_name] = []\n",
        "    image_elements[image_name].append((element, tuple(map(int, re.findall(r'\\d+', row[4])))))  # Store element and its coordinate as a tuple\n",
        "\n",
        "# Process the rows to calculate and add the \"result\" column\n",
        "for row in rows:\n",
        "    question = row[1]\n",
        "    q_coordinate = tuple(map(int, re.findall(r'\\d+', row[5])))  # Extract and parse the q_coordinate as a tuple\n",
        "    image_name = row[0]\n",
        "\n",
        "    if any(keyword in question.lower() for keyword in closest_keywords):\n",
        "        # Calculate the shortest distance element within the same image\n",
        "        min_distance = float('inf')\n",
        "        closest_element = ''\n",
        "        closest_element_coord = ()\n",
        "        if image_name in image_elements:\n",
        "            for element, element_coordinate in image_elements[image_name]:\n",
        "                if \"block\" in element.lower() or \"bowl\" in element.lower():\n",
        "                    distance = calculate_distance(q_coordinate, element_coordinate)\n",
        "                    if distance > 0:  # Disregard distance value 0\n",
        "                        #print(f\"Calculating distance between {question} ({q_coordinate}) and {element} ({element_coordinate}): {distance}\")\n",
        "                        if distance < min_distance:\n",
        "                            min_distance = distance\n",
        "                            closest_element = element\n",
        "                            closest_element_coord = element_coordinate\n",
        "        #print(f\"Closest element for {question}: {closest_element} ({closest_element_coord})\")\n",
        "        row.append(closest_element if closest_element else 'N/A')  # Add the closest element or 'N/A' if no element found\n",
        "    elif any(keyword in question.lower() for keyword in farthest_keywords):\n",
        "        # Calculate the farthest distance element within the same image\n",
        "        max_distance = 0\n",
        "        farthest_element = ''\n",
        "        farthest_element_coord = ()\n",
        "        if image_name in image_elements:\n",
        "            for element, element_coordinate in image_elements[image_name]:\n",
        "                if \"block\" in element.lower() or \"bowl\" in element.lower():\n",
        "                    distance = calculate_distance(q_coordinate, element_coordinate)\n",
        "                    #print(f\"Calculating distance between {question} ({q_coordinate}) and {element} ({element_coordinate}): {distance}\")\n",
        "                    if distance > max_distance:\n",
        "                        max_distance = distance\n",
        "                        farthest_element = element\n",
        "                        farthest_element_coord = element_coordinate\n",
        "        #print(f\"Farthest element for {question}: {farthest_element} ({farthest_element_coord})\")\n",
        "        row.append(farthest_element if farthest_element else 'N/A')  # Add the farthest element or 'N/A' if no element found\n",
        "    else:\n",
        "        # If \"Where\" is in the question, set the result to N/A\n",
        "        #print(f\"No distance calculation needed for {question}\")\n",
        "        row.append('N/A')\n",
        "\n",
        "# Write the updated data with the \"result\" column to a new CSV file\n",
        "with open('final_output.csv', 'w', newline='') as f:\n",
        "    csv_writer = csv.writer(f)\n",
        "    csv_writer.writerow(header)\n",
        "    csv_writer.writerows(rows)\n",
        "\n",
        "print(\"Final output CSV file has been created.\")"
      ],
      "metadata": {
        "colab": {
          "base_uri": "https://localhost:8080/"
        },
        "id": "C-RK-cvFYztQ",
        "outputId": "d8788718-383f-4864-d819-b4ccef0723ae"
      },
      "execution_count": null,
      "outputs": [
        {
          "output_type": "stream",
          "name": "stdout",
          "text": [
            "Final output CSV file has been created.\n"
          ]
        }
      ]
    },
    {
      "cell_type": "code",
      "source": [
        "import csv\n",
        "import re\n",
        "import math\n",
        "\n",
        "# Function to calculate Euclidean distance between two points (coordinates)\n",
        "def calculate_distance(coord1, coord2):\n",
        "    x1, y1 = coord1\n",
        "    x2, y2 = coord2\n",
        "    return math.sqrt((x1 - x2) ** 2 + (y1 - y2) ** 2)\n",
        "\n",
        "# Function to find the closest coordinate from a list of coordinates\n",
        "def find_closest_coordinate(target_coord, coordinates):\n",
        "    min_distance = float('inf')\n",
        "    closest_coord = ''\n",
        "    for coord_name, coord in coordinates.items():\n",
        "        distance = calculate_distance(target_coord, coord)\n",
        "        if distance < min_distance:\n",
        "            min_distance = distance\n",
        "            closest_coord = coord_name\n",
        "    return closest_coord\n",
        "\n",
        "# Read the updated_combined_output CSV file\n",
        "with open('final_output.csv', 'r') as f:\n",
        "    csv_reader = csv.reader(f)\n",
        "    header = next(csv_reader)\n",
        "    rows = list(csv_reader)\n",
        "\n",
        "# Define the result column header\n",
        "header.append('result1')\n",
        "\n",
        "# Define the coordinates and their names\n",
        "coordinates = {\n",
        "    'bottom left corner': (0, 0),\n",
        "    'bottom side': (125, 0),\n",
        "    'bottom right corner': (250, 0),\n",
        "    'left side': (0, 125),\n",
        "    'middle': (125, 125),\n",
        "    'right side': (250, 125),\n",
        "    'top left corner': (0, 250),\n",
        "    'top side': (125, 250),\n",
        "    'top right corner': (250, 250)\n",
        "}\n",
        "\n",
        "# Process the rows to calculate and add the \"result\" column\n",
        "for row in rows:\n",
        "    question = row[1]\n",
        "    q_coordinate = tuple(map(int, re.findall(r'\\d+', row[5])))  # Extract and parse the q_coordinate as a tuple\n",
        "\n",
        "    if \"Where\" in question:\n",
        "        # Find the closest coordinate from the provided coordinates\n",
        "        closest_coord = find_closest_coordinate(q_coordinate, coordinates)\n",
        "        #print(f\"Closest coordinate for {question}: {closest_coord}\")\n",
        "        row.append(closest_coord)  # Add the closest coordinate to the \"result\" column\n",
        "    else:\n",
        "        row.append('N/A')\n",
        "\n",
        "# Write the updated data with the \"result\" column to a new CSV file\n",
        "with open('final_output.csv', 'w', newline='') as f:\n",
        "    csv_writer = csv.writer(f)\n",
        "    csv_writer.writerow(header)\n",
        "    csv_writer.writerows(rows)\n",
        "\n",
        "print(\"Final output CSV file has been created.\")"
      ],
      "metadata": {
        "colab": {
          "base_uri": "https://localhost:8080/"
        },
        "id": "tr_EtW0q6aNX",
        "outputId": "b9b5348f-123a-4244-822f-5174eaea1795"
      },
      "execution_count": null,
      "outputs": [
        {
          "output_type": "stream",
          "name": "stdout",
          "text": [
            "Final output CSV file has been created.\n"
          ]
        }
      ]
    },
    {
      "cell_type": "code",
      "source": [
        "import pandas as pd\n",
        "\n",
        "# Define the input and output file paths\n",
        "input_csv_file = \"final_output.csv\"\n",
        "output_csv_file = \"output.csv\"\n",
        "\n",
        "# Read the input CSV into a DataFrame\n",
        "df = pd.read_csv(input_csv_file)\n",
        "\n",
        "# Function to swap \"top\" and \"bottom\" in a given string\n",
        "def swap_top_bottom(text):\n",
        "    if pd.notna(text):\n",
        "        return text.replace(\"top\", \"TEMP\").replace(\"bottom\", \"top\").replace(\"TEMP\", \"bottom\")\n",
        "    else:\n",
        "        return text\n",
        "\n",
        "# Apply the function to the 'question' column\n",
        "df['question'] = df['question'].apply(swap_top_bottom)\n",
        "\n",
        "# Save the modified DataFrame to a new CSV file\n",
        "df.to_csv(output_csv_file, index=False)\n",
        "\n",
        "print(f'Swapped \"top\" and \"bottom\" in {len(df)} rows and saved the result to {output_csv_file}.')"
      ],
      "metadata": {
        "colab": {
          "base_uri": "https://localhost:8080/"
        },
        "id": "D6EBRXxRnZX8",
        "outputId": "8f01b075-4409-49c6-db79-d98336eb3aae"
      },
      "execution_count": null,
      "outputs": [
        {
          "output_type": "stream",
          "name": "stdout",
          "text": [
            "Swapped \"top\" and \"bottom\" in 97909 rows and saved the result to output.csv.\n"
          ]
        }
      ]
    },
    {
      "cell_type": "code",
      "source": [
        "import pandas as pd\n",
        "\n",
        "# Define the input and output file paths\n",
        "input_csv_file = 'output.csv'\n",
        "output_csv_file = 'output.csv'\n",
        "\n",
        "# Read the CSV file into a DataFrame\n",
        "df = pd.read_csv(input_csv_file)\n",
        "\n",
        "# Fill empty cells in the \"result\" column with the corresponding \"result1\" value\n",
        "df['result'].fillna(df['result1'], inplace=True)\n",
        "\n",
        "# Save the updated DataFrame as a new CSV file\n",
        "df.to_csv(output_csv_file, index=False)\n",
        "\n",
        "print(f'Updated data saved to {output_csv_file}')"
      ],
      "metadata": {
        "colab": {
          "base_uri": "https://localhost:8080/"
        },
        "id": "_q5joh1a7D-O",
        "outputId": "c9d5d669-685a-4c5b-84d7-836e7e044bdf"
      },
      "execution_count": null,
      "outputs": [
        {
          "output_type": "stream",
          "name": "stdout",
          "text": [
            "Updated data saved to output.csv\n"
          ]
        }
      ]
    },
    {
      "cell_type": "code",
      "source": [
        "import pandas as pd\n",
        "\n",
        "# Define the input and output file paths\n",
        "input_csv_file = \"output.csv\"\n",
        "output_csv_file = \"final_data.csv\"\n",
        "\n",
        "# Read the input CSV into a DataFrame\n",
        "df = pd.read_csv(input_csv_file)\n",
        "\n",
        "# Task 1: Keep only the 'image', 'question', and 'result' columns\n",
        "df = df[['image', 'question', 'result']]\n",
        "\n",
        "# Task 2: Remove rows with empty 'question' column\n",
        "df = df.dropna(subset=['question'])\n",
        "\n",
        "# Task 3: Rename 'result' column to 'answer'\n",
        "df = df.rename(columns={'result': 'answer'})\n",
        "\n",
        "# Task 4: Save the modified DataFrame to a new CSV file\n",
        "df.to_csv(output_csv_file, index=False)\n",
        "\n",
        "print(f\"Processed the CSV file and saved the result to {output_csv_file}.\")"
      ],
      "metadata": {
        "colab": {
          "base_uri": "https://localhost:8080/"
        },
        "id": "H_V59aCao-xq",
        "outputId": "356545fa-c7a1-41a7-ce23-851abfc13c8c"
      },
      "execution_count": null,
      "outputs": [
        {
          "output_type": "stream",
          "name": "stdout",
          "text": [
            "Processed the CSV file and saved the result to final_data.csv.\n"
          ]
        }
      ]
    },
    {
      "cell_type": "code",
      "source": [
        "import pandas as pd\n",
        "\n",
        "# Define the input and output file paths\n",
        "input_csv_file = 'final_data.csv'\n",
        "output_csv_file = 'final_data.csv'\n",
        "\n",
        "# Read the CSV file into a DataFrame\n",
        "df = pd.read_csv(input_csv_file)\n",
        "\n",
        "# Replace \"img\" with \"image_\" in the \"image\" column\n",
        "df['image'] = df['image'].str.replace('img', 'image_')\n",
        "\n",
        "# Save the updated DataFrame as a new CSV file\n",
        "df.to_csv(output_csv_file, index=False)\n",
        "\n",
        "print(f'Updated data saved to {output_csv_file}')"
      ],
      "metadata": {
        "colab": {
          "base_uri": "https://localhost:8080/"
        },
        "id": "vKhLXhCv-yeL",
        "outputId": "f3e4e42c-f7ae-4153-f4af-4a34506a7a2d"
      },
      "execution_count": null,
      "outputs": [
        {
          "output_type": "stream",
          "name": "stdout",
          "text": [
            "Updated data saved to final_data.csv\n"
          ]
        }
      ]
    },
    {
      "cell_type": "code",
      "source": [
        "import pandas as pd\n",
        "\n",
        "# Define the input and output file paths\n",
        "input_csv_file = 'final_data.csv'\n",
        "output_csv_file = 'output.csv'\n",
        "\n",
        "# Read the CSV file into a DataFrame\n",
        "df = pd.read_csv(input_csv_file)\n",
        "\n",
        "# Create a mapping of unique values in the \"answer\" column to unique labels\n",
        "unique_answers = df['answer'].unique()\n",
        "label_mapping = {answer: label + 1 for label, answer in enumerate(unique_answers)}\n",
        "\n",
        "# Add a new column \"label\" based on the mapping\n",
        "df['label'] = df['answer'].map(label_mapping)\n",
        "\n",
        "# Save the updated DataFrame as a new CSV file\n",
        "df.to_csv(output_csv_file, index=False)\n",
        "\n",
        "print(f'Updated data saved to {output_csv_file}')"
      ],
      "metadata": {
        "colab": {
          "base_uri": "https://localhost:8080/"
        },
        "id": "6XRTBwj-_Llr",
        "outputId": "8ce1c0e7-93ef-4b27-eeee-6d2eab3ec12d"
      },
      "execution_count": null,
      "outputs": [
        {
          "output_type": "stream",
          "name": "stdout",
          "text": [
            "Updated data saved to output.csv\n"
          ]
        }
      ]
    },
    {
      "cell_type": "code",
      "source": [
        "!cp 'output.csv' '/content/drive/My Drive/'"
      ],
      "metadata": {
        "id": "NMFbh5vZwvi-"
      },
      "execution_count": null,
      "outputs": []
    },
    {
      "cell_type": "code",
      "source": [],
      "metadata": {
        "id": "RJC9BDnf_W8v"
      },
      "execution_count": null,
      "outputs": []
    }
  ]
}